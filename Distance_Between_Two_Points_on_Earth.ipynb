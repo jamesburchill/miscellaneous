{
  "nbformat": 4,
  "nbformat_minor": 0,
  "metadata": {
    "colab": {
      "name": "Distance Between Two Points on Earth.ipynb",
      "private_outputs": true,
      "provenance": [],
      "authorship_tag": "ABX9TyM0CxADCOT3BvttefOu/hcU",
      "include_colab_link": true
    },
    "kernelspec": {
      "name": "python3",
      "display_name": "Python 3"
    },
    "language_info": {
      "name": "python"
    }
  },
  "cells": [
    {
      "cell_type": "markdown",
      "metadata": {
        "id": "view-in-github",
        "colab_type": "text"
      },
      "source": [
        "<a href=\"https://colab.research.google.com/github/jamesburchill/miscellaneous/blob/main/Distance_Between_Two_Points_on_Earth.ipynb\" target=\"_parent\"><img src=\"https://colab.research.google.com/assets/colab-badge.svg\" alt=\"Open In Colab\"/></a>"
      ]
    },
    {
      "cell_type": "markdown",
      "metadata": {
        "id": "j0CGhBWfH6da"
      },
      "source": [
        "# Calculating the distance between 2 points on Earth \n",
        "Uses LON & LAT"
      ]
    },
    {
      "cell_type": "code",
      "metadata": {
        "id": "P1krQGFQH2At"
      },
      "source": [
        "# Python 3 program to calculate Distance Between Two Points on Earth\n",
        "\n",
        "from math import radians, cos, sin, asin, sqrt\n",
        "\n",
        "def distance(lat1, lat2, lon1, lon2):\n",
        "\n",
        "    # The math module contains a function named\n",
        "    # radians which converts from degrees to radians.\n",
        "    lon1 = radians(lon1)\n",
        "    lon2 = radians(lon2)\n",
        "    lat1 = radians(lat1)\n",
        "    lat2 = radians(lat2)\n",
        "\n",
        "    # Haversine formula\n",
        "    dlon = lon2 - lon1\n",
        "    dlat = lat2 - lat1\n",
        "\n",
        "    a = sin(dlat / 2)**2 + cos(lat1) * cos(lat2) * sin(dlon / 2)**2\n",
        "\n",
        "    c = 2 * asin(sqrt(a))\n",
        "\n",
        "    # Radius of earth in Kilometres. Use 3956 for Miles\n",
        "    r = 6371\n",
        "\n",
        "    # calculate the result\n",
        "    return(c * r)\n",
        "\n",
        "\n",
        "# driver code\n",
        "lat1 = 53.32055555555556\n",
        "lat2 = 53.31861111111111\n",
        "lon1 = -1.7297222222222221\n",
        "lon2 =  -1.6997222222222223\n",
        "\n",
        "d = distance(lat1, lat2, lon1, lon2)\n",
        "\n",
        "print(d , \"KM\") \n"
      ],
      "execution_count": null,
      "outputs": []
    }
  ]
}