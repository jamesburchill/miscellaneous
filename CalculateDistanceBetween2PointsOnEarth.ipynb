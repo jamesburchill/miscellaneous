{
  "nbformat": 4,
  "nbformat_minor": 0,
  "metadata": {
    "colab": {
      "name": "CalculateDistanceBetween2PointsOnEarth.ipynb",
      "provenance": [],
      "authorship_tag": "ABX9TyPiT+g3C4bKJy5+SA6h1f1l",
      "include_colab_link": true
    },
    "kernelspec": {
      "name": "python3",
      "display_name": "Python 3"
    },
    "language_info": {
      "name": "python"
    }
  },
  "cells": [
    {
      "cell_type": "markdown",
      "metadata": {
        "id": "view-in-github",
        "colab_type": "text"
      },
      "source": [
        "<a href=\"https://colab.research.google.com/github/jamesburchill/temp/blob/main/CalculateDistanceBetween2PointsOnEarth.ipynb\" target=\"_parent\"><img src=\"https://colab.research.google.com/assets/colab-badge.svg\" alt=\"Open In Colab\"/></a>"
      ]
    },
    {
      "cell_type": "markdown",
      "metadata": {
        "id": "ubcwM2pHo0uh"
      },
      "source": [
        "#Calculate The Distance Between 2 Points on the Earth\n",
        "\n",
        "Enter the LON/LAT for 2 locations and this Python script will calculate the distance in KM. If you want to change the measurement to Miles, change the 'r' value as noted below. Remember to update the print statement at the end to reflect the chosen measurement.\n",
        "\n",
        "JB // July 25, 2021"
      ]
    },
    {
      "cell_type": "markdown",
      "metadata": {
        "id": "VAf4FRDlnkJv"
      },
      "source": [
        "**Get the LON/LAT for 2 places on Earth.**\n",
        "* Use [Google maps](https://www.google.com/maps/)"
      ]
    },
    {
      "cell_type": "code",
      "metadata": {
        "id": "1CSTTD9hn0_f"
      },
      "source": [
        "# Assign the LON/LAT variables BEFORE runninc the next block of code!!!\n",
        "\n",
        "lat1 = 53.32055555555556\n",
        "lon1 = -1.7297222222222221\n",
        "\n",
        "lat2 = 53.31861111111111\n",
        "lon2 = -1.6997222222222223"
      ],
      "execution_count": 7,
      "outputs": []
    },
    {
      "cell_type": "code",
      "metadata": {
        "colab": {
          "base_uri": "https://localhost:8080/"
        },
        "id": "yjBd8kt7mQQ1",
        "outputId": "31fbe809-ae0d-4ce7-bb73-030a979e0de2"
      },
      "source": [
        "# Python 3 program to calculate Distance Between Two Points on Earth\n",
        "\n",
        "from math import radians, cos, sin, asin, sqrt\n",
        "\n",
        "def distance(lat1, lat2, lon1, lon2):\n",
        " \n",
        "    # The math module contains a function named\n",
        "    # radians which converts from degrees to radians.\n",
        "    lon1 = radians(lon1)\n",
        "    lon2 = radians(lon2)\n",
        "    lat1 = radians(lat1)\n",
        "    lat2 = radians(lat2)\n",
        " \n",
        "    # Haversine formula\n",
        "    dlon = lon2 - lon1\n",
        "    dlat = lat2 - lat1\n",
        "\n",
        "    a = sin(dlat / 2)**2 + cos(lat1) * cos(lat2) * sin(dlon / 2)**2\n",
        " \n",
        "    c = 2 * asin(sqrt(a))\n",
        " \n",
        "    r = 6371  #Radius of earth in kilometers. Use 3956 for miles\n",
        " \n",
        "    # calculate the result\n",
        "    return(c * r) \n",
        " \n",
        "#Ensure you run the previous code block above to assign the variables first!\n",
        "\n",
        "#calculate the distance - call the function with vars\n",
        "DISTANCE = round(distance(lat1, lat2, lon1, lon2),2)\n",
        "\n",
        "#print the distance\n",
        "print(DISTANCE, \"KM\")\n"
      ],
      "execution_count": 9,
      "outputs": [
        {
          "output_type": "stream",
          "text": [
            "2.0 KM\n"
          ],
          "name": "stdout"
        }
      ]
    }
  ]
}