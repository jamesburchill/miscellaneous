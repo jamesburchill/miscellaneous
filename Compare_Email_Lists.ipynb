{
  "nbformat": 4,
  "nbformat_minor": 0,
  "metadata": {
    "colab": {
      "name": "Compare Email Lists.ipynb",
      "private_outputs": true,
      "provenance": [],
      "collapsed_sections": [],
      "authorship_tag": "ABX9TyMHQLW3KSGT2kmLlz3ZJodN",
      "include_colab_link": true
    },
    "kernelspec": {
      "name": "python3",
      "display_name": "Python 3"
    },
    "language_info": {
      "name": "python"
    }
  },
  "cells": [
    {
      "cell_type": "markdown",
      "metadata": {
        "id": "view-in-github",
        "colab_type": "text"
      },
      "source": [
        "<a href=\"https://colab.research.google.com/github/jamesburchill/miscellaneous/blob/main/Compare_Email_Lists.ipynb\" target=\"_parent\"><img src=\"https://colab.research.google.com/assets/colab-badge.svg\" alt=\"Open In Colab\"/></a>"
      ]
    },
    {
      "cell_type": "markdown",
      "metadata": {
        "id": "tcf-K8dyBEIA"
      },
      "source": [
        "**********************************************************************\n",
        "#This program compares 2 files - a MASTER list and an OTHER list.\n",
        "It looks for OTHERS NOT in the MASTER list and outputs the result.\n",
        "**********************************************************************\n",
        "\n",
        "\n",
        "*While this script assumes you are comparing email lists, you could effectively compare anything!*"
      ]
    },
    {
      "cell_type": "markdown",
      "metadata": {
        "id": "1Yt1jEgrP9Wl"
      },
      "source": [
        "# Run this first to mount your Google drive into your COLLAB /content/ directory structure.\n",
        "[IMPORTANT] Ensure this collab notebook and the \".txt\" data files are in the target directory. (In this example, I've left the target as the ROOT folder of your google drive.)"
      ]
    },
    {
      "cell_type": "code",
      "metadata": {
        "id": "y0y245qlGjEZ"
      },
      "source": [
        "from google.colab import drive\n",
        "drive.mount(\"/content/gdrive\", force_remount=True)"
      ],
      "execution_count": null,
      "outputs": []
    },
    {
      "cell_type": "markdown",
      "metadata": {
        "id": "2uuvR_NAPMzq"
      },
      "source": [
        "**[IMPORTANT]** When uploading your TXT files into your Google Drive, remember to check that you have 'Convert to Google Docs Format' turned off. If you forget to do this, Google will remove the file extension '.txt' and replace it (invisibly,) with '.gdoc' and the script below will fail to find your data :( Here's how: https://help.appsheet.com/en/articles/3082030-uploading-txt-template-files-to-google-drive"
      ]
    },
    {
      "cell_type": "markdown",
      "metadata": {
        "id": "d-Fdj_unQLPC"
      },
      "source": [
        "# Run this cell to LIST the files in your target directory. \n",
        "(Optional, just proves the drive mounted properly works!)"
      ]
    },
    {
      "cell_type": "code",
      "metadata": {
        "id": "hnHgdcfIMyw1"
      },
      "source": [
        "!ls \"/content/gdrive/My Drive\""
      ],
      "execution_count": null,
      "outputs": []
    },
    {
      "cell_type": "markdown",
      "metadata": {
        "id": "cYuEuI2kQZ2M"
      },
      "source": [
        "#Compare Email Lists \n",
        "(Actual script that does the work.)"
      ]
    },
    {
      "cell_type": "code",
      "metadata": {
        "id": "IPZexo_0-kXx"
      },
      "source": [
        "# COMPARE EMAIL LISTS (c) http://JamesBurchill.com\n",
        "\n",
        "# SET THE OUTPUT FILE NAME\n",
        "OthersNotInMaster = \"OthersNotInMaster.txt\"\n",
        "\n",
        "# SET/GET FILENAMES\n",
        "\n",
        "masterEmails = input(\"Enter the MASTER LIST. Defaults to: masterlist.txt >\")\n",
        "if masterEmails == '':\n",
        "    masterEmails = \"masterlist.txt\"\n",
        "\n",
        "otherEmails = input(\"Enter the OTHER LIST. Defaults to: otherlist.txt >\")\n",
        "if otherEmails == '':\n",
        "    otherEmails = \"otherlist.txt\"\n",
        "\n",
        "# SET YOUR TARGET DIRECTORY (Where to find this notebook + data files)\n",
        "# Assumes ROOT, however if you wanted to move everythng into [SomeFolder]\n",
        "# change the next line to this: \n",
        "# targetdirectory = '/content/gdrive/My Drive/SomeFolder'\n",
        "\n",
        "targetdirectory = '/content/gdrive/My Drive/'\n",
        "\n",
        "# PREPEND TARGET DIRCETORY to filenames\n",
        "masterEmails = targetdirectory + masterEmails\n",
        "otherEmails = targetdirectory + otherEmails\n",
        "OthersNotInMaster = targetdirectory + OthersNotInMaster\n",
        "\n",
        "#OPEN FILES\n",
        "f1 = open(masterEmails.strip(), \"r\")\n",
        "f2 = open(otherEmails.strip(), \"r\")\n",
        "f3 = open(OthersNotInMaster, \"w\")\n",
        "\n",
        "#READ EMAIL\n",
        "master = set(list(f1))\n",
        "other = set(list(f2))\n",
        "\n",
        "print(' ')\n",
        "print(\"There are \" + str(len(master)) + \" entries in the MASTER list.\")\n",
        "print(' ')\n",
        "print(\"There are \" + str(len(other)) + \" entries in the OTHER list.\")\n",
        "print(' ')\n",
        "\n",
        "#COMPARE SETS\n",
        "difference = other.difference(master)\n",
        "print(\"Found \" + str(len(difference)) + \" OTHER records NOT in MASTER list.\")\n",
        "\n",
        "#WRITE DIFFERENCES\n",
        "for x in difference:\n",
        "  f3.write(x)\n",
        "\n",
        "print(' ')\n",
        "print('The OthersNotInMaster.txt contains a clean list')\n",
        "\n",
        "#CLOSE FILES\n",
        "f1.close()\n",
        "f2.close()\n",
        "f3.close()\n"
      ],
      "execution_count": null,
      "outputs": []
    },
    {
      "cell_type": "code",
      "metadata": {
        "id": "iwq5P5WtaQcj"
      },
      "source": [
        ""
      ],
      "execution_count": null,
      "outputs": []
    }
  ]
}